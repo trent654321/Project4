{
 "cells": [
  {
   "cell_type": "code",
   "execution_count": 1,
   "id": "4532f6d8",
   "metadata": {},
   "outputs": [],
   "source": [
    "import tensorflow as tf\n",
    "import numpy as np"
   ]
  },
  {
   "cell_type": "code",
   "execution_count": 2,
   "id": "1e84219d",
   "metadata": {},
   "outputs": [],
   "source": [
    "model = tf.keras.models.load_model('saved_model.h5')\n",
    "directory = ('/Users/trent/Downloads/resources/')\n",
    "paths_zero = ['/Users/trent/Downloads/resources/IDC_regular_ps50_idx5/9322/0/9322_idx5_x951_y751_class0.png',\n",
    "             '/Users/trent/Downloads/resources/IDC_regular_ps50_idx5/14210/0/14210_idx5_x1801_y1851_class0.png']\n",
    "\n",
    "paths_one = ['/Users/trent/Downloads/resources/IDC_regular_ps50_idx5/9383/1/9383_idx5_x1951_y1051_class1.png',\n",
    "            '/Users/trent/Downloads/resources/IDC_regular_ps50_idx5/12883/1/12883_idx5_x401_y251_class1.png']\n"
   ]
  },
  {
   "cell_type": "code",
   "execution_count": 3,
   "id": "86f10bda",
   "metadata": {},
   "outputs": [
    {
     "name": "stdout",
     "output_type": "stream",
     "text": [
      "\n",
      "Predicts 0, actual is 0. Yay!\n",
      "\n",
      "Predicts 0, actual is 0. Yay!\n",
      "\n",
      "Predicts 1, actual is 1. Yay!\n",
      "\n",
      "Predicts 0, actual is 1. Noooo!\n"
     ]
    }
   ],
   "source": [
    "for path in paths_zero:\n",
    "    image = tf.keras.preprocessing.image.load_img(path)\n",
    "    image_arr = tf.keras.preprocessing.image.img_to_array(image)\n",
    "    if(image_arr.shape == (50,50,3)):\n",
    "        X_test = image_arr\n",
    "        X_test_scaled = X_test/255\n",
    "        X_test_scaled = X_test_scaled.reshape(1,50,50,3)\n",
    "        y_pred = model.predict(X_test_scaled)\n",
    "        print()\n",
    "        if y_pred.item(0) > .5:\n",
    "            print('Predicts 0, actual is 0. Yay!')\n",
    "        else:\n",
    "            print('Predicts 1, actual is 0. Noooo!')\n",
    "    else:\n",
    "        print('no prediction due to shape')\n",
    "for path in paths_one:\n",
    "    image = tf.keras.preprocessing.image.load_img(path)\n",
    "    image_arr = tf.keras.preprocessing.image.img_to_array(image)\n",
    "    if(image_arr.shape == (50,50,3)):\n",
    "        X_test = image_arr\n",
    "        X_test_scaled = X_test/255\n",
    "        X_test_scaled = X_test_scaled.reshape(1,50,50,3)\n",
    "        y_pred = model.predict(X_test_scaled)\n",
    "        print()\n",
    "        if y_pred.item(0) > .5:\n",
    "            print('Predicts 0, actual is 1. Noooo!')\n",
    "        else:\n",
    "            print('Predicts 1, actual is 1. Yay!')\n",
    "    else:\n",
    "        print('no prediction due to shape')"
   ]
  },
  {
   "cell_type": "code",
   "execution_count": null,
   "id": "f9f312a4",
   "metadata": {},
   "outputs": [],
   "source": []
  }
 ],
 "metadata": {
  "kernelspec": {
   "display_name": "Python 3",
   "language": "python",
   "name": "python3"
  },
  "language_info": {
   "codemirror_mode": {
    "name": "ipython",
    "version": 3
   },
   "file_extension": ".py",
   "mimetype": "text/x-python",
   "name": "python",
   "nbconvert_exporter": "python",
   "pygments_lexer": "ipython3",
   "version": "3.6.10"
  }
 },
 "nbformat": 4,
 "nbformat_minor": 5
}
